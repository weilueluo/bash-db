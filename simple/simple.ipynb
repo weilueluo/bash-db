{
 "cells": [
  {
   "cell_type": "code",
   "execution_count": 10,
   "metadata": {},
   "outputs": [],
   "source": [
    "from pathlib import Path"
   ]
  },
  {
   "cell_type": "code",
   "execution_count": 11,
   "metadata": {},
   "outputs": [],
   "source": [
    "database_file = Path(\"database.txt\")"
   ]
  },
  {
   "cell_type": "code",
   "execution_count": 12,
   "metadata": {},
   "outputs": [],
   "source": [
    "from typing import List, Dict\n",
    "\n",
    "def read_database(keys: List[str]):\n",
    "    to_return = {}\n",
    "    if not database_file.exists():\n",
    "        raise FileNotFoundError(\"Database file not found, please write some data first\")\n",
    "    \n",
    "    with open(database_file, \"rb\") as f:\n",
    "        lines = f.readlines()\n",
    "        pairs = [line.decode(\"utf-8\").split(\"=\", 1) for line in lines]\n",
    "        pairs.reverse() # reverse the list to return the latest value\n",
    "        for key in keys:\n",
    "            for k, v in pairs:\n",
    "                if k == key:\n",
    "                    to_return[key] = v.strip()\n",
    "                    break\n",
    "    return to_return\n",
    "\n",
    "def write_database(data: Dict[str, str]):\n",
    "    with open(database_file, \"ab\") as f:\n",
    "        for key, value in data.items():\n",
    "            f.write(f\"{key}={value}\\n\".encode(\"utf-8\"))"
   ]
  },
  {
   "cell_type": "code",
   "execution_count": 13,
   "metadata": {},
   "outputs": [],
   "source": [
    "def clear_all():\n",
    "    database_file.unlink(missing_ok=True)"
   ]
  },
  {
   "cell_type": "code",
   "execution_count": 18,
   "metadata": {},
   "outputs": [],
   "source": [
    "clear_all()\n",
    "write_database({\"key1\": \"value1\", \"key2\": \"value2\", \"key3\": \"value3\"})\n",
    "read_database([\"key1\", \"key2\", \"key3\"])"
   ]
  },
  {
   "cell_type": "code",
   "execution_count": null,
   "metadata": {},
   "outputs": [],
   "source": [
    "import timeit\n",
    "import statistics as stats\n",
    "\n",
    "def get_write_stmt(count: int):\n",
    "    return f\"write_database({{f'key{{i}}': f'value{{i}}' for i in range({count})}})\"\n",
    "\n",
    "def get_read_stmt(count: int, limit: int):\n",
    "    return f\"read_database([f'key{{i}}' for i in random.sample(range({limit}), {count})])\"\n",
    "\n",
    "for count in [10_000, 100_000, 1_000_000]:\n",
    "    times = timeit.repeat(get_write_stmt(count), setup='clear_all()', globals=globals(), number=1, repeat=3)\n",
    "    print(f'Time to write {count} records: {stats.mean(times)}s')\n",
    "\n",
    "for limit in [10_000, 100_000, 1_000_000]:\n",
    "    times = timeit.repeat(get_read_stmt(1000, limit=limit), setup=f'import random;clear_all();{get_write_stmt(count=limit)}', globals=globals(), number=1, repeat=3)\n",
    "    print(f'Time to read 1000 random records from {limit} records: {stats.mean(times)}s')"
   ]
  }
 ],
 "metadata": {
  "kernelspec": {
   "display_name": "index-hashmap",
   "language": "python",
   "name": "python3"
  },
  "language_info": {
   "codemirror_mode": {
    "name": "ipython",
    "version": 3
   },
   "file_extension": ".py",
   "mimetype": "text/x-python",
   "name": "python",
   "nbconvert_exporter": "python",
   "pygments_lexer": "ipython3",
   "version": "3.10.9"
  }
 },
 "nbformat": 4,
 "nbformat_minor": 2
}
