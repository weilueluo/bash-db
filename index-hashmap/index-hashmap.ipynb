{
 "cells": [
  {
   "cell_type": "code",
   "execution_count": 14,
   "metadata": {},
   "outputs": [],
   "source": [
    "from pathlib import Path\n",
    "import pickle"
   ]
  },
  {
   "cell_type": "code",
   "execution_count": 9,
   "metadata": {},
   "outputs": [],
   "source": [
    "database_file = Path(\"database.pkl\")\n",
    "index_file = Path(\"index.pkl\")"
   ]
  },
  {
   "cell_type": "code",
   "execution_count": 17,
   "metadata": {},
   "outputs": [],
   "source": [
    "def load_index():\n",
    "    index = {}\n",
    "    if index_file.exists():\n",
    "        with open(index_file, \"rb\") as f:\n",
    "            index = pickle.load(f)\n",
    "    return index\n",
    "\n",
    "def write_index(index):\n",
    "    with open(index_file, \"wb\") as f:\n",
    "        pickle.dump(index, f)"
   ]
  },
  {
   "cell_type": "code",
   "execution_count": 15,
   "metadata": {},
   "outputs": [],
   "source": [
    "from typing import List, Dict\n",
    "\n",
    "def read_database(keys: List[str]):\n",
    "    index = load_index()\n",
    "    to_return = {}\n",
    "    if not database_file.exists():\n",
    "        raise FileNotFoundError(\"Database file not found, please write some data first\")\n",
    "\n",
    "    with open(database_file, \"rb\") as f:\n",
    "        for key in keys:\n",
    "            # seek to offset indicated by the index\n",
    "            offset = index[key]\n",
    "            f.seek(offset, 0)\n",
    "            # first 4 bytes indicate the size of the data\n",
    "            size_b = f.read(4)\n",
    "            size = int.from_bytes(size_b, byteorder=\"big\", signed=False)\n",
    "            # read the data\n",
    "            data_b = f.read(size)\n",
    "            data = data_b.decode(\"utf-8\")\n",
    "            to_return[key] = data\n",
    "\n",
    "    return to_return\n",
    "\n",
    "def write_database(data: Dict[str, str]):\n",
    "    index = load_index()\n",
    "    with open(database_file, \"ab\") as f:\n",
    "        for key, value in data.items():\n",
    "            # write the data\n",
    "            data_b = value.encode(\"utf-8\")\n",
    "            size_b = len(data_b).to_bytes(4, byteorder=\"big\")\n",
    "            # update the index\n",
    "            index[key] = f.tell()\n",
    "            # write the data\n",
    "            f.write(size_b)\n",
    "            f.write(data_b)\n",
    "    write_index(index)"
   ]
  },
  {
   "cell_type": "code",
   "execution_count": 18,
   "metadata": {},
   "outputs": [],
   "source": [
    "def clear_all():\n",
    "    database_file.unlink(missing_ok=True)\n",
    "    index_file.unlink(missing_ok=True)"
   ]
  },
  {
   "cell_type": "code",
   "execution_count": 19,
   "metadata": {},
   "outputs": [],
   "source": [
    "clear_all()\n",
    "write_database({\"key1\": \"value1\", \"key2\": \"value2\", \"key3\": \"value3\"})\n",
    "read_database([\"key1\", \"key2\", \"key3\"])"
   ]
  },
  {
   "cell_type": "code",
   "execution_count": null,
   "metadata": {},
   "outputs": [],
   "source": [
    "import timeit\n",
    "import statistics as stats\n",
    "\n",
    "def get_write_stmt(count: int):\n",
    "    return f\"write_database({{f'key{{i}}': f'value{{i}}' for i in range({count})}})\"\n",
    "\n",
    "def get_read_stmt(count: int, limit: int):\n",
    "    return f\"read_database([f'key{{i}}' for i in random.sample(range({limit}), {count})])\"\n",
    "\n",
    "for count in [10_000, 100_000, 1_000_000]:\n",
    "    times = timeit.repeat(get_write_stmt(count), setup='clear_all()', globals=globals(), number=1, repeat=3)\n",
    "    print(f'Time to write {count} records: {stats.mean(times)}s')\n",
    "\n",
    "for limit in [10_000, 100_000, 1_000_000]:\n",
    "    times = timeit.repeat(get_read_stmt(1000, limit=limit), setup=f'import random;clear_all();{get_write_stmt(count=limit)}', globals=globals(), number=1, repeat=3)\n",
    "    print(f'Time to read 1000 random records from {limit} records: {stats.mean(times)}s')"
   ]
  }
 ],
 "metadata": {
  "kernelspec": {
   "display_name": "index-hashmap",
   "language": "python",
   "name": "python3"
  },
  "language_info": {
   "codemirror_mode": {
    "name": "ipython",
    "version": 3
   },
   "file_extension": ".py",
   "mimetype": "text/x-python",
   "name": "python",
   "nbconvert_exporter": "python",
   "pygments_lexer": "ipython3",
   "version": "3.10.9"
  }
 },
 "nbformat": 4,
 "nbformat_minor": 2
}
